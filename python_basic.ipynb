{
 "cells": [
  {
   "cell_type": "markdown",
   "id": "86f533bd",
   "metadata": {},
   "source": [
    "## Python程式語法介紹"
   ]
  },
  {
   "cell_type": "markdown",
   "id": "0473ec16",
   "metadata": {},
   "source": [
    "- 計算子介紹"
   ]
  },
  {
   "cell_type": "code",
   "execution_count": null,
   "id": "5b0b35da",
   "metadata": {},
   "outputs": [],
   "source": [
    "# 基本運算\n",
    "\n",
    "a = 2\n",
    "b = 3\n",
    "\n",
    "print(f\" a={a}, 型別為{type(a)}\\n b={b}, 型別為{type(b)}\",end=\"\\n\\n\")\n",
    "print(f\"加法: {a} +  {b} = {a+b:3d}\")\n",
    "print(f\"減法: {a} -  {b} = {a-b:3d}\")\n",
    "print(f\"乘法: {a} *  {b} = {a*b:3d}\")\n",
    "print(f\"除法: {a} /  {b} = {a/b:3.1f}\")\n",
    "print(f\"餘數: {a} %  {b} = {a%b:3d}\")\n",
    "print(f\"次方: {a} ** {b} = {a**b:3d}\")"
   ]
  },
  {
   "cell_type": "markdown",
   "id": "2f730887",
   "metadata": {},
   "source": [
    "- 內建函式"
   ]
  },
  {
   "cell_type": "code",
   "execution_count": null,
   "id": "81429321",
   "metadata": {},
   "outputs": [],
   "source": [
    "# 內建函式應用\n",
    "# 有一個直角三角形，已知二邊長，求第三邊長\n",
    "\n",
    "import math             # 引入內建的數學計算函式庫\n",
    "\n",
    "A_side = 4\n",
    "B_side = 5\n",
    "\n",
    "C_side = math.sqrt(A_side**2 + B_side**2)\n",
    "\n",
    "print(f\"由二邊長 {A_side} 及 {B_side} 構成的直角三角形，其斜邊長為 {C_side:0.2f}\")"
   ]
  },
  {
   "cell_type": "code",
   "execution_count": null,
   "id": "9e5b4dab",
   "metadata": {},
   "outputs": [],
   "source": [
    "# 使用lambda方式重寫\n",
    "\n",
    "import math \n",
    "\n",
    "side = [4, 5]\n",
    "slen = math.sqrt((lambda lst: sum(x**2 for x in lst))(side)) \n",
    "print(f\"由二邊長 {side} 構成的直角三角形，其斜邊長為 {slen:0.2f}\")"
   ]
  },
  {
   "cell_type": "markdown",
   "id": "133b5600",
   "metadata": {},
   "source": [
    "- 流程判斷"
   ]
  },
  {
   "cell_type": "code",
   "execution_count": null,
   "id": "8f6ce51d",
   "metadata": {},
   "outputs": [],
   "source": [
    "# if判斷式\n",
    "is_nice = False\n",
    "\n",
    "if is_nice:\n",
    "    print(\"人不錯\")\n",
    "else:\n",
    "    print(\"不太好\")\n",
    "\n",
    "# 單行\n",
    "print(\"人不錯\" if is_nice else \"不太好\")"
   ]
  },
  {
   "cell_type": "code",
   "execution_count": null,
   "id": "e40bfbad",
   "metadata": {},
   "outputs": [],
   "source": [
    "# 多條件if判斷式\n",
    "\n",
    "Score = 55\n",
    "\n",
    "if   Score >= (90):\n",
    "    print(\"優秀\")\n",
    "elif Score >= (80):\n",
    "    print(\"良好\")\n",
    "elif Score >= (70):\n",
    "    print(\"中等\")\n",
    "else:\n",
    "    print(\"需要努力\")"
   ]
  },
  {
   "cell_type": "markdown",
   "id": "8f874900",
   "metadata": {},
   "source": [
    "- 指定運算子"
   ]
  },
  {
   "cell_type": "code",
   "execution_count": null,
   "id": "a02abff1",
   "metadata": {},
   "outputs": [],
   "source": [
    "# 變數指定運算子 (=)\n",
    "\n",
    "i = 1       # 指定運算子\n",
    "\n",
    "i += 4 ; print(i)       # 加法指定運算子\n",
    "i -= 4 ; print(i)       # 減法指定運算子\n",
    "i *= 4 ; print(i)       # 乘法指定運算子\n",
    "i /= 4 ; print(i)       # 除法指定運算子\n",
    "print()"
   ]
  },
  {
   "cell_type": "markdown",
   "id": "207a61a9",
   "metadata": {},
   "source": [
    "- for迴圈"
   ]
  },
  {
   "cell_type": "code",
   "execution_count": null,
   "id": "f81e973f",
   "metadata": {},
   "outputs": [],
   "source": [
    "# 計算 1 加到 10\n",
    "i = 0\n",
    "for j in range(1,11):\n",
    "    i += j\n",
    "    print(i) \n",
    "print()\n",
    "\n",
    "# lambda函式 : 計算 1 加到 10\n",
    "print((lambda :sum(s+1 for s in range(10)))())\n",
    "\n",
    "# 用在列表中\n",
    "list = [i+1 for i in range(10)]\n",
    "print(list)"
   ]
  },
  {
   "cell_type": "markdown",
   "id": "46147ec0",
   "metadata": {},
   "source": [
    "- while 迴圈"
   ]
  },
  {
   "cell_type": "code",
   "execution_count": null,
   "id": "32ab37bf",
   "metadata": {},
   "outputs": [],
   "source": [
    "# while 迴圈\n",
    "\n",
    "import random\n",
    "\n",
    "Ans = random.randint(1, 10)\n",
    "while True:\n",
    "    Guess = int(input(\"輸入一個1~10的數字\"))\n",
    "    if Guess == Ans:\n",
    "        print(\"猜對了\")\n",
    "        break\n",
    "    elif Guess > Ans:\n",
    "        print(\"猜太大了\")\n",
    "    else:\n",
    "        print(\"猜太小了\")"
   ]
  },
  {
   "cell_type": "markdown",
   "id": "cf721732",
   "metadata": {},
   "source": [
    "- 函式"
   ]
  },
  {
   "cell_type": "code",
   "execution_count": 4,
   "id": "976586af",
   "metadata": {},
   "outputs": [
    {
     "name": "stdout",
     "output_type": "stream",
     "text": [
      "   *   \n",
      "  ***  \n",
      " ***** \n",
      "*******\n",
      "   |   \n"
     ]
    }
   ],
   "source": [
    "# 建立自訂函式\n",
    "\n",
    "def DrawTree():\n",
    "    print(\"   *   \")\n",
    "    print(\"  ***  \")\n",
    "    print(\" ***** \")\n",
    "    print(\"*******\")\n",
    "    print(\"   |   \")\n",
    "\n",
    "# 呼叫它\n",
    "DrawTree()      "
   ]
  },
  {
   "cell_type": "code",
   "execution_count": null,
   "id": "df204edc",
   "metadata": {},
   "outputs": [
    {
     "name": "stdout",
     "output_type": "stream",
     "text": [
      "圓面積: 50.27\n",
      "圓周長: 25.13\n"
     ]
    }
   ],
   "source": [
    "# 輸入半徑，計算圓面積及周長\n",
    "import math\n",
    "from turtle import circle\n",
    "\n",
    "def CalCircle(radius):\n",
    "    area = radius**2 * math.pi\n",
    "    cir  = 2 * radius * math.pi\n",
    "    return area, cir\n",
    "\n",
    "R = 4\n",
    "a, b = CalCircle(R)\n",
    "print(\"圓面積: {:0.2f}\\n圓周長: {:0.2f}\".format(a, b))"
   ]
  }
 ],
 "metadata": {
  "kernelspec": {
   "display_name": "langchain",
   "language": "python",
   "name": "python3"
  },
  "language_info": {
   "codemirror_mode": {
    "name": "ipython",
    "version": 3
   },
   "file_extension": ".py",
   "mimetype": "text/x-python",
   "name": "python",
   "nbconvert_exporter": "python",
   "pygments_lexer": "ipython3",
   "version": "3.11.13"
  }
 },
 "nbformat": 4,
 "nbformat_minor": 5
}
