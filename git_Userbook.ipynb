{
 "cells": [
  {
   "cell_type": "markdown",
   "id": "a8c04e4b",
   "metadata": {},
   "source": [
    "## 建立新專案時的流程\n",
    "\n",
    "1️⃣ 建立資料夾並進入\n",
    "  - mkdir my_project\n",
    "  - cd my_project\n",
    "\n",
    "2️⃣ 初始化 Git 倉庫（開始版本控制）\n",
    "  - git init\n",
    "\n",
    "3️⃣ 建立檔案（例如建立一個 README）\n",
    "  - echo \"# 我的專案\" > README.md\n",
    "\n",
    "4️⃣ 查看目前狀態（哪些檔案被修改或新增）\n",
    "  - git status\n",
    "\n",
    "5️⃣ 加入檔案到暫存區（準備提交）\n",
    "  - git add README.md\n",
    "\n",
    "    或加入所有變更檔案\n",
    "\n",
    "  - git add .\n",
    "\n",
    "6️⃣ 提交檔案（建立版本快照）\n",
    "  - git commit -m \"初始化專案，新增 README.md\"\n",
    "\n",
    "7️⃣ 查看提交紀錄\n",
    "  - git log\n",
    "\n",
    "8️⃣ 如果你有 GitHub 倉庫，設定遠端連結（選用）\n",
    "  - git remote add origin https://github.com/你的帳號/my_project.git\n",
    "\n",
    "9️⃣ 推送到 GitHub（第一次推送）\n",
    "  - git push -u origin master\n"
   ]
  },
  {
   "cell_type": "markdown",
   "id": "547f7949",
   "metadata": {},
   "source": [
    "## 從既有的專案clone到本地編輯管理\n",
    "\n",
    "1️⃣ 前往你想儲存專案的資料夾\n",
    "  - cd ~/你的工作目錄\n",
    "\n",
    "2️⃣ 使用 git clone 將 GitHub 專案複製到本機\n",
    "  - git clone https://github.com/你的帳號/專案名稱.git\n",
    "\n",
    "3️⃣ 進入專案資料夾\n",
    "  - cd 專案名稱\n",
    "\n",
    "4️⃣ 查看目前的 Git 狀態（確認是否有變更）\n",
    "  - git status\n",
    "\n",
    "5️⃣ 編輯或新增檔案（例如新增一個 Python 檔案）\n",
    "  - touch app.py\n",
    "\n",
    "    或編輯現有檔案\n",
    "\n",
    "  - nano README.md  # 或使用你喜歡的編輯器\n",
    "\n",
    "6️⃣ 查看變更後的狀態\n",
    "  - git status\n",
    "\n",
    "7️⃣ 加入變更到暫存區\n",
    "  - git add .\n",
    "\n",
    "8️⃣ 提交變更（建立版本快照）\n",
    "  - git commit -m \"新增 app.py 並更新 README\"\n",
    "\n",
    "9️⃣ 推送變更到 GitHub（同步到遠端）\n",
    "  - git push origin main\n",
    "\n",
    "    如果是 master 分支，請改成：\n",
    "\n",
    "  - git push origin master\n"
   ]
  },
  {
   "cell_type": "markdown",
   "id": "12647ad1",
   "metadata": {},
   "source": [
    "## 要注意的事項\n",
    "\n",
    "開啟clone下來的專案後，每次都要先做\n",
    "\n",
    "git <font color=\"red\">pull</font>\n"
   ]
  }
 ],
 "metadata": {
  "language_info": {
   "name": "python"
  }
 },
 "nbformat": 4,
 "nbformat_minor": 5
}
