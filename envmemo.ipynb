{
 "cells": [
  {
   "cell_type": "markdown",
   "id": "15f65d22",
   "metadata": {},
   "source": [
    "## 環境準備安裝內容\n",
    "* git\n",
    "* miniconda\n",
    "    1. 建立虛擬環境\n",
    "* cursor\n",
    "    1. 中文介面\n",
    "    1. python\n",
    "    1. jupyter notebook\n",
    "    1. git clone\n"
   ]
  },
  {
   "cell_type": "markdown",
   "id": "5b5cab1e",
   "metadata": {},
   "source": [
    "## git"
   ]
  },
  {
   "cell_type": "markdown",
   "id": "af68feb6",
   "metadata": {},
   "source": [
    "- 下載安裝\n",
    "- 於要作版本管理的資料夾中進行初始化\n",
    "    - git <font color=\"yellow\">init</font>\n",
    "- 設置目前的git要進行上傳的使用者帳號、郵件\n",
    "    - git <font color=\"yellow\">config</font> <font color=\"gray\">--global</font> <font color=\"lightblue\">user.name</font> <font color=\"green\">\"phillipsback\"</font>\n",
    "    - git <font color=\"yellow\">config</font> <font color=\"gray\">--global</font> <font color=\"lightblue\">user.email</font> <font color=\"green\">\"phillipsback@hotmail.com\"</font>\n",
    "\n",
    "    (如果只是在目前的資料夾套用此帳號、郵件資訊，則可以把 --global 改成 --local )\n",
    "- 設置拉取專案時的策略\n",
    "    - git <font color=\"yellow\">config</font> <font color=\"gray\">--global</font> <font color=\"lightblue\">pull.rebase</font> <font color=\"green\">\"false\"</font>\n",
    "\n",
    "    (這裏是指定在拉取時，使用 merge 而非 rebase)"
   ]
  }
 ],
 "metadata": {
  "kernelspec": {
   "display_name": "langchain",
   "language": "python",
   "name": "python3"
  },
  "language_info": {
   "codemirror_mode": {
    "name": "ipython",
    "version": 3
   },
   "file_extension": ".py",
   "mimetype": "text/x-python",
   "name": "python",
   "nbconvert_exporter": "python",
   "pygments_lexer": "ipython3",
   "version": "3.11.13"
  }
 },
 "nbformat": 4,
 "nbformat_minor": 5
}
