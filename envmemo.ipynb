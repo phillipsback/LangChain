{
 "cells": [
  {
   "cell_type": "markdown",
   "id": "15f65d22",
   "metadata": {},
   "source": [
    "## 環境準備安裝內容\n",
    "* git\n",
    "* miniconda\n",
    "    1. 建立虛擬環境\n",
    "* cursor\n",
    "    1. 中文介面\n",
    "    1. python\n",
    "    1. jupyter notebook\n",
    "    1. git clone\n"
   ]
  },
  {
   "cell_type": "code",
   "execution_count": 8,
   "id": "09f88a6c",
   "metadata": {},
   "outputs": [
    {
     "name": "stdout",
     "output_type": "stream",
     "text": [
      " a=2, 型別為<class 'int'>\n",
      " b=3, 型別為<class 'int'>\n",
      "\n",
      "加法: 2 +  3 =   5\n",
      "減法: 2 -  3 =  -1\n",
      "乘法: 2 *  3 =   6\n",
      "除法: 2 /  3 = 0.7\n",
      "餘數: 2 %  3 =   2\n",
      "次方: 2 ** 3 =   8\n"
     ]
    }
   ],
   "source": [
    "a = 2\n",
    "b = 3\n",
    "\n",
    "print(f\" a={a}, 型別為{type(a)}\\n b={b}, 型別為{type(b)}\",end=\"\\n\\n\")\n",
    "print(f\"加法: {a} +  {b} = {a+b:3d}\")\n",
    "print(f\"減法: {a} -  {b} = {a-b:3d}\")\n",
    "print(f\"乘法: {a} *  {b} = {a*b:3d}\")\n",
    "print(f\"除法: {a} /  {b} = {a/b:3.1f}\")\n",
    "print(f\"餘數: {a} %  {b} = {a%b:3d}\")\n",
    "print(f\"次方: {a} ** {b} = {a**b:3d}\")\n"
   ]
  },
  {
   "cell_type": "code",
   "execution_count": null,
   "id": "6ba676c1",
   "metadata": {},
   "outputs": [],
   "source": [
    "# 有一個直角三角形，已知二邊長，求第三邊長"
   ]
  }
 ],
 "metadata": {
  "kernelspec": {
   "display_name": "langchain",
   "language": "python",
   "name": "python3"
  },
  "language_info": {
   "codemirror_mode": {
    "name": "ipython",
    "version": 3
   },
   "file_extension": ".py",
   "mimetype": "text/x-python",
   "name": "python",
   "nbconvert_exporter": "python",
   "pygments_lexer": "ipython3",
   "version": "3.11.13"
  }
 },
 "nbformat": 4,
 "nbformat_minor": 5
}
