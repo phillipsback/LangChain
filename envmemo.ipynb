{
 "cells": [
  {
   "cell_type": "markdown",
   "id": "15f65d22",
   "metadata": {},
   "source": [
    "## 環境準備安裝內容\n",
    "* git\n",
    "* miniconda\n",
    "    1. 建立虛擬環境\n",
    "* cursor\n",
    "    1. 中文介面\n",
    "    1. python\n",
    "    1. jupyter notebook\n",
    "    1. git clone\n"
   ]
  },
  {
   "cell_type": "code",
   "execution_count": 9,
   "id": "09f88a6c",
   "metadata": {},
   "outputs": [
    {
     "name": "stdout",
     "output_type": "stream",
     "text": [
      "a=2, b=3\n",
      "加法: 2 + 3 =  5\n",
      "減法: 2 - 3 = -1\n",
      "乘法: 2 * 3 =  6\n",
      "除法: 2 / 3 = 0.7\n"
     ]
    }
   ],
   "source": [
    "a = 2\n",
    "b = 3\n",
    "\n",
    "print(f\"a={a}, b={b}\")\n",
    "print(f\"加法: {a} + {b} = {a+b:2d}\")\n",
    "print(f\"減法: {a} - {b} = {a-b:2d}\")\n",
    "print(f\"乘法: {a} * {b} = {a*b:2d}\")\n",
    "print(f\"除法: {a} / {b} = {a/b:2.1f}\")\n"
   ]
  }
 ],
 "metadata": {
  "kernelspec": {
   "display_name": "langchain",
   "language": "python",
   "name": "python3"
  },
  "language_info": {
   "codemirror_mode": {
    "name": "ipython",
    "version": 3
   },
   "file_extension": ".py",
   "mimetype": "text/x-python",
   "name": "python",
   "nbconvert_exporter": "python",
   "pygments_lexer": "ipython3",
   "version": "3.11.13"
  }
 },
 "nbformat": 4,
 "nbformat_minor": 5
}
